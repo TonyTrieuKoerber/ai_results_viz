{
 "cells": [
  {
   "cell_type": "code",
   "execution_count": 1,
   "metadata": {},
   "outputs": [],
   "source": [
    "from pathlib import Path\n",
    "from IPython.display import Image\n",
    "\n",
    "from data_utils import load_params, load_results, convert_test_scores_to_sample_scores\n",
    "from eval import calculate_cf_matrix, plot_cf_matrix"
   ]
  },
  {
   "cell_type": "markdown",
   "metadata": {},
   "source": [
    "# Load data"
   ]
  },
  {
   "cell_type": "code",
   "execution_count": 2,
   "metadata": {},
   "outputs": [
    {
     "data": {
      "text/html": [
       "<div>\n",
       "<style scoped>\n",
       "    .dataframe tbody tr th:only-of-type {\n",
       "        vertical-align: middle;\n",
       "    }\n",
       "\n",
       "    .dataframe tbody tr th {\n",
       "        vertical-align: top;\n",
       "    }\n",
       "\n",
       "    .dataframe thead th {\n",
       "        text-align: right;\n",
       "    }\n",
       "</style>\n",
       "<table border=\"1\" class=\"dataframe\">\n",
       "  <thead>\n",
       "    <tr style=\"text-align: right;\">\n",
       "      <th></th>\n",
       "      <th>image_name</th>\n",
       "      <th>category</th>\n",
       "      <th>sample</th>\n",
       "      <th>revolution</th>\n",
       "      <th>trigger</th>\n",
       "      <th>prediction</th>\n",
       "      <th>truth</th>\n",
       "    </tr>\n",
       "  </thead>\n",
       "  <tbody>\n",
       "    <tr>\n",
       "      <th>0</th>\n",
       "      <td>/home/tonytrieu/datasets/Cilag/C31/C31_Vorstud...</td>\n",
       "      <td>good</td>\n",
       "      <td>NaN</td>\n",
       "      <td>NaN</td>\n",
       "      <td>NaN</td>\n",
       "      <td>0</td>\n",
       "      <td>0</td>\n",
       "    </tr>\n",
       "    <tr>\n",
       "      <th>1</th>\n",
       "      <td>/home/tonytrieu/datasets/Cilag/C31/C31_Vorstud...</td>\n",
       "      <td>good</td>\n",
       "      <td>NaN</td>\n",
       "      <td>NaN</td>\n",
       "      <td>NaN</td>\n",
       "      <td>0</td>\n",
       "      <td>0</td>\n",
       "    </tr>\n",
       "    <tr>\n",
       "      <th>2</th>\n",
       "      <td>/home/tonytrieu/datasets/Cilag/C31/C31_Vorstud...</td>\n",
       "      <td>good</td>\n",
       "      <td>NaN</td>\n",
       "      <td>NaN</td>\n",
       "      <td>NaN</td>\n",
       "      <td>0</td>\n",
       "      <td>0</td>\n",
       "    </tr>\n",
       "    <tr>\n",
       "      <th>3</th>\n",
       "      <td>/home/tonytrieu/datasets/Cilag/C31/C31_Vorstud...</td>\n",
       "      <td>good</td>\n",
       "      <td>NaN</td>\n",
       "      <td>NaN</td>\n",
       "      <td>NaN</td>\n",
       "      <td>0</td>\n",
       "      <td>0</td>\n",
       "    </tr>\n",
       "    <tr>\n",
       "      <th>4</th>\n",
       "      <td>/home/tonytrieu/datasets/Cilag/C31/C31_Vorstud...</td>\n",
       "      <td>good</td>\n",
       "      <td>NaN</td>\n",
       "      <td>NaN</td>\n",
       "      <td>NaN</td>\n",
       "      <td>0</td>\n",
       "      <td>0</td>\n",
       "    </tr>\n",
       "    <tr>\n",
       "      <th>...</th>\n",
       "      <td>...</td>\n",
       "      <td>...</td>\n",
       "      <td>...</td>\n",
       "      <td>...</td>\n",
       "      <td>...</td>\n",
       "      <td>...</td>\n",
       "      <td>...</td>\n",
       "    </tr>\n",
       "    <tr>\n",
       "      <th>1467</th>\n",
       "      <td>/home/tonytrieu/datasets/Cilag/C31/C31_Vorstud...</td>\n",
       "      <td>good</td>\n",
       "      <td>NaN</td>\n",
       "      <td>NaN</td>\n",
       "      <td>NaN</td>\n",
       "      <td>0</td>\n",
       "      <td>0</td>\n",
       "    </tr>\n",
       "    <tr>\n",
       "      <th>1468</th>\n",
       "      <td>/home/tonytrieu/datasets/Cilag/C31/C31_Vorstud...</td>\n",
       "      <td>good</td>\n",
       "      <td>NaN</td>\n",
       "      <td>NaN</td>\n",
       "      <td>NaN</td>\n",
       "      <td>0</td>\n",
       "      <td>0</td>\n",
       "    </tr>\n",
       "    <tr>\n",
       "      <th>1469</th>\n",
       "      <td>/home/tonytrieu/datasets/Cilag/C31/C31_Vorstud...</td>\n",
       "      <td>good</td>\n",
       "      <td>NaN</td>\n",
       "      <td>NaN</td>\n",
       "      <td>NaN</td>\n",
       "      <td>0</td>\n",
       "      <td>0</td>\n",
       "    </tr>\n",
       "    <tr>\n",
       "      <th>1470</th>\n",
       "      <td>/home/tonytrieu/datasets/Cilag/C31/C31_Vorstud...</td>\n",
       "      <td>bad</td>\n",
       "      <td>NaN</td>\n",
       "      <td>NaN</td>\n",
       "      <td>NaN</td>\n",
       "      <td>1</td>\n",
       "      <td>1</td>\n",
       "    </tr>\n",
       "    <tr>\n",
       "      <th>1471</th>\n",
       "      <td>/home/tonytrieu/datasets/Cilag/C31/C31_Vorstud...</td>\n",
       "      <td>good</td>\n",
       "      <td>NaN</td>\n",
       "      <td>NaN</td>\n",
       "      <td>NaN</td>\n",
       "      <td>0</td>\n",
       "      <td>0</td>\n",
       "    </tr>\n",
       "  </tbody>\n",
       "</table>\n",
       "<p>1472 rows × 7 columns</p>\n",
       "</div>"
      ],
      "text/plain": [
       "                                             image_name category sample  \\\n",
       "0     /home/tonytrieu/datasets/Cilag/C31/C31_Vorstud...     good    NaN   \n",
       "1     /home/tonytrieu/datasets/Cilag/C31/C31_Vorstud...     good    NaN   \n",
       "2     /home/tonytrieu/datasets/Cilag/C31/C31_Vorstud...     good    NaN   \n",
       "3     /home/tonytrieu/datasets/Cilag/C31/C31_Vorstud...     good    NaN   \n",
       "4     /home/tonytrieu/datasets/Cilag/C31/C31_Vorstud...     good    NaN   \n",
       "...                                                 ...      ...    ...   \n",
       "1467  /home/tonytrieu/datasets/Cilag/C31/C31_Vorstud...     good    NaN   \n",
       "1468  /home/tonytrieu/datasets/Cilag/C31/C31_Vorstud...     good    NaN   \n",
       "1469  /home/tonytrieu/datasets/Cilag/C31/C31_Vorstud...     good    NaN   \n",
       "1470  /home/tonytrieu/datasets/Cilag/C31/C31_Vorstud...      bad    NaN   \n",
       "1471  /home/tonytrieu/datasets/Cilag/C31/C31_Vorstud...     good    NaN   \n",
       "\n",
       "     revolution trigger  prediction  truth  \n",
       "0           NaN     NaN           0      0  \n",
       "1           NaN     NaN           0      0  \n",
       "2           NaN     NaN           0      0  \n",
       "3           NaN     NaN           0      0  \n",
       "4           NaN     NaN           0      0  \n",
       "...         ...     ...         ...    ...  \n",
       "1467        NaN     NaN           0      0  \n",
       "1468        NaN     NaN           0      0  \n",
       "1469        NaN     NaN           0      0  \n",
       "1470        NaN     NaN           1      1  \n",
       "1471        NaN     NaN           0      0  \n",
       "\n",
       "[1472 rows x 7 columns]"
      ]
     },
     "execution_count": 2,
     "metadata": {},
     "output_type": "execute_result"
    }
   ],
   "source": [
    "# import parameters\n",
    "params_path = Path('./params.yml')\n",
    "import_params = load_params(params_path)\n",
    "\n",
    "# import results.txt file and extract information from file names \n",
    "df_results_image_based = load_results(import_params.import_file_path, import_params)\n",
    "df_results_image_based"
   ]
  },
  {
   "cell_type": "markdown",
   "metadata": {},
   "source": [
    "# Filter categories and save data frame"
   ]
  },
  {
   "cell_type": "code",
   "execution_count": 9,
   "metadata": {},
   "outputs": [],
   "source": [
    "# filter relevant categories\n",
    "include_categories = [\n",
    "    'good',\n",
    "    'bad'\n",
    "]\n",
    "\n",
    "df_results_image_based = df_results_image_based[df_results_image_based.category.isin(include_categories)]\n",
    "\n",
    "# save new data frame to csv file\n",
    "path_image_based_csv = r'C:\\Users\\1699\\Repositories\\ai_results_viz\\ai_pipeline_export\\data\\image_based_cf_matrix.csv'\n",
    "df_results_image_based.to_csv(path_image_based_csv)"
   ]
  },
  {
   "cell_type": "markdown",
   "metadata": {},
   "source": [
    "# Image-based evaluation"
   ]
  },
  {
   "cell_type": "code",
   "execution_count": 4,
   "metadata": {},
   "outputs": [
    {
     "data": {
      "image/png": "[encoded data removed]",
      "text/plain": [
       "<Figure size 640x480 with 2 Axes>"
      ]
     },
     "metadata": {},
     "output_type": "display_data"
    }
   ],
   "source": [
    "# evaluation parameters\n",
    "prediction_class_to_value_map = {'Good': 0, 'Failed': 1}\n",
    "prediction_classes = ['Good', 'Failed']\n",
    "\n",
    "# creating confusion matrix\n",
    "y_true = df_results_image_based.truth\n",
    "y_pred = df_results_image_based.prediction\n",
    "cf_matrix = calculate_cf_matrix(y_true, y_pred, prediction_class_to_value_map, prediction_classes)\n",
    "\n",
    "# plotting and saving confusion matrix\n",
    "workspace_path = Path(r'C:\\Users\\1699\\Repositories\\ai_results_viz\\ai_pipeline_export\\data')\n",
    "save_path_cf_matrix = workspace_path / 'image_based_cf_matrix.png'\n",
    "plot_cf_matrix(cf_matrix, save_path_cf_matrix, prediction_classes)"
   ]
  },
  {
   "cell_type": "markdown",
   "metadata": {},
   "source": [
    "# Sample-based evaluation"
   ]
  },
  {
   "cell_type": "code",
   "execution_count": 10,
   "metadata": {},
   "outputs": [
    {
     "data": {
      "text/html": [
       "<div>\n",
       "<style scoped>\n",
       "    .dataframe tbody tr th:only-of-type {\n",
       "        vertical-align: middle;\n",
       "    }\n",
       "\n",
       "    .dataframe tbody tr th {\n",
       "        vertical-align: top;\n",
       "    }\n",
       "\n",
       "    .dataframe thead th {\n",
       "        text-align: right;\n",
       "    }\n",
       "</style>\n",
       "<table border=\"1\" class=\"dataframe\">\n",
       "  <thead>\n",
       "    <tr style=\"text-align: right;\">\n",
       "      <th></th>\n",
       "      <th></th>\n",
       "      <th></th>\n",
       "      <th>prediction</th>\n",
       "      <th>truth</th>\n",
       "    </tr>\n",
       "    <tr>\n",
       "      <th>category</th>\n",
       "      <th>sample</th>\n",
       "      <th>revolution</th>\n",
       "      <th></th>\n",
       "      <th></th>\n",
       "    </tr>\n",
       "  </thead>\n",
       "  <tbody>\n",
       "    <tr>\n",
       "      <th rowspan=\"5\" valign=\"top\">Airline</th>\n",
       "      <th rowspan=\"5\" valign=\"top\">1</th>\n",
       "      <th>1</th>\n",
       "      <td>0</td>\n",
       "      <td>0</td>\n",
       "    </tr>\n",
       "    <tr>\n",
       "      <th>2</th>\n",
       "      <td>0</td>\n",
       "      <td>0</td>\n",
       "    </tr>\n",
       "    <tr>\n",
       "      <th>3</th>\n",
       "      <td>0</td>\n",
       "      <td>0</td>\n",
       "    </tr>\n",
       "    <tr>\n",
       "      <th>4</th>\n",
       "      <td>0</td>\n",
       "      <td>0</td>\n",
       "    </tr>\n",
       "    <tr>\n",
       "      <th>5</th>\n",
       "      <td>0</td>\n",
       "      <td>0</td>\n",
       "    </tr>\n",
       "    <tr>\n",
       "      <th>...</th>\n",
       "      <th>...</th>\n",
       "      <th>...</th>\n",
       "      <td>...</td>\n",
       "      <td>...</td>\n",
       "    </tr>\n",
       "    <tr>\n",
       "      <th rowspan=\"5\" valign=\"top\">Verschmutzung am Stopfen</th>\n",
       "      <th rowspan=\"5\" valign=\"top\">75</th>\n",
       "      <th>6</th>\n",
       "      <td>0</td>\n",
       "      <td>0</td>\n",
       "    </tr>\n",
       "    <tr>\n",
       "      <th>7</th>\n",
       "      <td>0</td>\n",
       "      <td>0</td>\n",
       "    </tr>\n",
       "    <tr>\n",
       "      <th>8</th>\n",
       "      <td>0</td>\n",
       "      <td>0</td>\n",
       "    </tr>\n",
       "    <tr>\n",
       "      <th>9</th>\n",
       "      <td>0</td>\n",
       "      <td>0</td>\n",
       "    </tr>\n",
       "    <tr>\n",
       "      <th>10</th>\n",
       "      <td>1</td>\n",
       "      <td>0</td>\n",
       "    </tr>\n",
       "  </tbody>\n",
       "</table>\n",
       "<p>8750 rows × 2 columns</p>\n",
       "</div>"
      ],
      "text/plain": [
       "                                            prediction  truth\n",
       "category                 sample revolution                   \n",
       "Airline                  1      1                    0      0\n",
       "                                2                    0      0\n",
       "                                3                    0      0\n",
       "                                4                    0      0\n",
       "                                5                    0      0\n",
       "...                                                ...    ...\n",
       "Verschmutzung am Stopfen 75     6                    0      0\n",
       "                                7                    0      0\n",
       "                                8                    0      0\n",
       "                                9                    0      0\n",
       "                                10                   1      0\n",
       "\n",
       "[8750 rows x 2 columns]"
      ]
     },
     "execution_count": 10,
     "metadata": {},
     "output_type": "execute_result"
    }
   ],
   "source": [
    "df_results_sample_based = convert_test_scores_to_sample_scores(df_results_image_based)\n",
    "df_results_sample_based"
   ]
  },
  {
   "cell_type": "code",
   "execution_count": 11,
   "metadata": {},
   "outputs": [],
   "source": [
    "# save sample based data frame to csv file\n",
    "save_path_sample_based_csv= workspace_path / 'sample_based_test_scores.csv'\n",
    "df_results_sample_based.to_csv(save_path_sample_based_csv)"
   ]
  },
  {
   "cell_type": "code",
   "execution_count": 12,
   "metadata": {},
   "outputs": [
    {
     "data": {
      "image/png": "[encoded data removed]",
      "text/plain": [
       "<Figure size 640x480 with 2 Axes>"
      ]
     },
     "metadata": {},
     "output_type": "display_data"
    }
   ],
   "source": [
    "# creating confusion matrix\n",
    "y_true = df_results_sample_based.truth\n",
    "y_pred = df_results_sample_based.prediction\n",
    "cf_matrix = calculate_cf_matrix(y_true, y_pred, prediction_class_to_value_map, prediction_classes)\n",
    "\n",
    "# plotting and saving confusion matrix\n",
    "save_path_cf_matrix = workspace_path / 'sample_based_cf_matrix.png'\n",
    "plot_cf_matrix(cf_matrix, save_path_cf_matrix, prediction_classes)"
   ]
  },
  {
   "cell_type": "code",
   "execution_count": null,
   "metadata": {},
   "outputs": [],
   "source": []
  }
 ],
 "metadata": {
  "kernelspec": {
   "display_name": "Python 3.8.10 ('tony')",
   "language": "python",
   "name": "python3"
  },
  "language_info": {
   "codemirror_mode": {
    "name": "ipython",
    "version": 3
   },
   "file_extension": ".py",
   "mimetype": "text/x-python",
   "name": "python",
   "nbconvert_exporter": "python",
   "pygments_lexer": "ipython3",
   "version": "3.8.10"
  },
  "orig_nbformat": 4,
  "vscode": {
   "interpreter": {
    "hash": "9b63462a0c3c4787f698bea89280aad958ab1cacbd0e489876d9c57fc704de1e"
   }
  }
 },
 "nbformat": 4,
 "nbformat_minor": 2
}
