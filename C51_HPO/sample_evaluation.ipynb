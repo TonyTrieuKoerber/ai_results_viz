{
 "cells": [
  {
   "cell_type": "code",
   "execution_count": 15,
   "metadata": {},
   "outputs": [
    {
     "name": "stdout",
     "output_type": "stream",
     "text": [
      "C:\\Users\\1699\\Repositories\\ai_results_viz\n"
     ]
    }
   ],
   "source": [
    "# change notebook directory to repo root\n",
    "%cd C:\\\\Users\\\\1699\\\\Repositories\\\\ai_results_viz\n",
    "%matplotlib inline"
   ]
  },
  {
   "cell_type": "code",
   "execution_count": 16,
   "metadata": {},
   "outputs": [],
   "source": [
    "from C51_HPO.import_csv import *\n",
    "from plot_results_binary import calculate_cf_matrix, plot_cf_matrix\n",
    "from pathlib import Path\n",
    "from IPython.display import Image"
   ]
  },
  {
   "cell_type": "markdown",
   "metadata": {},
   "source": [
    "# Load data"
   ]
  },
  {
   "cell_type": "code",
   "execution_count": 17,
   "metadata": {},
   "outputs": [
    {
     "data": {
      "text/html": [
       "<div>\n",
       "<style scoped>\n",
       "    .dataframe tbody tr th:only-of-type {\n",
       "        vertical-align: middle;\n",
       "    }\n",
       "\n",
       "    .dataframe tbody tr th {\n",
       "        vertical-align: top;\n",
       "    }\n",
       "\n",
       "    .dataframe thead th {\n",
       "        text-align: right;\n",
       "    }\n",
       "</style>\n",
       "<table border=\"1\" class=\"dataframe\">\n",
       "  <thead>\n",
       "    <tr style=\"text-align: right;\">\n",
       "      <th></th>\n",
       "      <th>img</th>\n",
       "      <th>scores</th>\n",
       "      <th>truth</th>\n",
       "      <th>sample</th>\n",
       "      <th>revolution</th>\n",
       "      <th>sequence</th>\n",
       "      <th>prediction</th>\n",
       "    </tr>\n",
       "  </thead>\n",
       "  <tbody>\n",
       "    <tr>\n",
       "      <th>0</th>\n",
       "      <td>gut/gut_1.0000___Production_LCS0K01_FErun1_G18...</td>\n",
       "      <td>[9.999850e-01 5.740729e-06 9.271215e-06]</td>\n",
       "      <td>0</td>\n",
       "      <td>Production_LCS0K01_FErun1_G18</td>\n",
       "      <td>20</td>\n",
       "      <td>13</td>\n",
       "      <td>0</td>\n",
       "    </tr>\n",
       "    <tr>\n",
       "      <th>1</th>\n",
       "      <td>gut/gut_1.0000___loop_bad_140201_D_seq_00031_I...</td>\n",
       "      <td>[0.8966866  0.08401702 0.01929635]</td>\n",
       "      <td>0</td>\n",
       "      <td>loop_bad_140201_D</td>\n",
       "      <td>31</td>\n",
       "      <td>10</td>\n",
       "      <td>0</td>\n",
       "    </tr>\n",
       "    <tr>\n",
       "      <th>2</th>\n",
       "      <td>gut/gut_1.0000___loop_bad_140705_E_seq_00019_I...</td>\n",
       "      <td>[0.715376   0.2461782  0.03844582]</td>\n",
       "      <td>0</td>\n",
       "      <td>loop_bad_140705_E</td>\n",
       "      <td>19</td>\n",
       "      <td>8</td>\n",
       "      <td>0</td>\n",
       "    </tr>\n",
       "    <tr>\n",
       "      <th>3</th>\n",
       "      <td>gut/gut_1.0000___Deviation_140701w2-r1_G18n_se...</td>\n",
       "      <td>[0.8995745  0.04602931 0.05439622]</td>\n",
       "      <td>0</td>\n",
       "      <td>Deviation_140701w2-r1_G18n</td>\n",
       "      <td>107</td>\n",
       "      <td>5</td>\n",
       "      <td>0</td>\n",
       "    </tr>\n",
       "    <tr>\n",
       "      <th>4</th>\n",
       "      <td>gut/gut_1.0000___loop_bad_KDS1M02_seq_00019_Im...</td>\n",
       "      <td>[0.9177625  0.04874269 0.03349485]</td>\n",
       "      <td>0</td>\n",
       "      <td>loop_bad_KDS1M02</td>\n",
       "      <td>19</td>\n",
       "      <td>6</td>\n",
       "      <td>0</td>\n",
       "    </tr>\n",
       "    <tr>\n",
       "      <th>...</th>\n",
       "      <td>...</td>\n",
       "      <td>...</td>\n",
       "      <td>...</td>\n",
       "      <td>...</td>\n",
       "      <td>...</td>\n",
       "      <td>...</td>\n",
       "      <td>...</td>\n",
       "    </tr>\n",
       "    <tr>\n",
       "      <th>11438</th>\n",
       "      <td>kratzer/kratzer_1.0000___loop_bad_140705_B_seq...</td>\n",
       "      <td>[8.1849337e-04 4.7858851e-08 9.9918145e-01]</td>\n",
       "      <td>2</td>\n",
       "      <td>loop_bad_140705_B</td>\n",
       "      <td>28</td>\n",
       "      <td>10</td>\n",
       "      <td>2</td>\n",
       "    </tr>\n",
       "    <tr>\n",
       "      <th>11439</th>\n",
       "      <td>kratzer/kratzer_1.0000___loop_bad_140705_B_seq...</td>\n",
       "      <td>[7.1969805e-11 2.8575784e-11 1.0000000e+00]</td>\n",
       "      <td>2</td>\n",
       "      <td>loop_bad_140705_B</td>\n",
       "      <td>11</td>\n",
       "      <td>12</td>\n",
       "      <td>2</td>\n",
       "    </tr>\n",
       "    <tr>\n",
       "      <th>11440</th>\n",
       "      <td>kratzer/kratzer_1.0000___loop_bad_140705_B_seq...</td>\n",
       "      <td>[1.0953466e-10 1.9801638e-08 1.0000000e+00]</td>\n",
       "      <td>2</td>\n",
       "      <td>loop_bad_140705_B</td>\n",
       "      <td>7</td>\n",
       "      <td>6</td>\n",
       "      <td>2</td>\n",
       "    </tr>\n",
       "    <tr>\n",
       "      <th>11441</th>\n",
       "      <td>kratzer/kratzer_1.0000___Scratches_loop_140705...</td>\n",
       "      <td>[1.0039251e-08 1.0341216e-11 1.0000000e+00]</td>\n",
       "      <td>2</td>\n",
       "      <td>Scratches_loop_140705_F1_G18</td>\n",
       "      <td>3</td>\n",
       "      <td>13</td>\n",
       "      <td>2</td>\n",
       "    </tr>\n",
       "    <tr>\n",
       "      <th>11442</th>\n",
       "      <td>kratzer/kratzer_1.0000___Scratches_140705_F5_G...</td>\n",
       "      <td>[7.907693e-09 4.708192e-17 1.000000e+00]</td>\n",
       "      <td>2</td>\n",
       "      <td>Scratches_140705_F5_G18</td>\n",
       "      <td>55</td>\n",
       "      <td>14</td>\n",
       "      <td>2</td>\n",
       "    </tr>\n",
       "  </tbody>\n",
       "</table>\n",
       "<p>11443 rows × 7 columns</p>\n",
       "</div>"
      ],
      "text/plain": [
       "                                                     img  \\\n",
       "0      gut/gut_1.0000___Production_LCS0K01_FErun1_G18...   \n",
       "1      gut/gut_1.0000___loop_bad_140201_D_seq_00031_I...   \n",
       "2      gut/gut_1.0000___loop_bad_140705_E_seq_00019_I...   \n",
       "3      gut/gut_1.0000___Deviation_140701w2-r1_G18n_se...   \n",
       "4      gut/gut_1.0000___loop_bad_KDS1M02_seq_00019_Im...   \n",
       "...                                                  ...   \n",
       "11438  kratzer/kratzer_1.0000___loop_bad_140705_B_seq...   \n",
       "11439  kratzer/kratzer_1.0000___loop_bad_140705_B_seq...   \n",
       "11440  kratzer/kratzer_1.0000___loop_bad_140705_B_seq...   \n",
       "11441  kratzer/kratzer_1.0000___Scratches_loop_140705...   \n",
       "11442  kratzer/kratzer_1.0000___Scratches_140705_F5_G...   \n",
       "\n",
       "                                            scores  truth  \\\n",
       "0         [9.999850e-01 5.740729e-06 9.271215e-06]      0   \n",
       "1               [0.8966866  0.08401702 0.01929635]      0   \n",
       "2               [0.715376   0.2461782  0.03844582]      0   \n",
       "3               [0.8995745  0.04602931 0.05439622]      0   \n",
       "4               [0.9177625  0.04874269 0.03349485]      0   \n",
       "...                                            ...    ...   \n",
       "11438  [8.1849337e-04 4.7858851e-08 9.9918145e-01]      2   \n",
       "11439  [7.1969805e-11 2.8575784e-11 1.0000000e+00]      2   \n",
       "11440  [1.0953466e-10 1.9801638e-08 1.0000000e+00]      2   \n",
       "11441  [1.0039251e-08 1.0341216e-11 1.0000000e+00]      2   \n",
       "11442     [7.907693e-09 4.708192e-17 1.000000e+00]      2   \n",
       "\n",
       "                              sample  revolution  sequence  prediction  \n",
       "0      Production_LCS0K01_FErun1_G18          20        13           0  \n",
       "1                  loop_bad_140201_D          31        10           0  \n",
       "2                  loop_bad_140705_E          19         8           0  \n",
       "3         Deviation_140701w2-r1_G18n         107         5           0  \n",
       "4                   loop_bad_KDS1M02          19         6           0  \n",
       "...                              ...         ...       ...         ...  \n",
       "11438              loop_bad_140705_B          28        10           2  \n",
       "11439              loop_bad_140705_B          11        12           2  \n",
       "11440              loop_bad_140705_B           7         6           2  \n",
       "11441   Scratches_loop_140705_F1_G18           3        13           2  \n",
       "11442        Scratches_140705_F5_G18          55        14           2  \n",
       "\n",
       "[11443 rows x 7 columns]"
      ]
     },
     "execution_count": 17,
     "metadata": {},
     "output_type": "execute_result"
    }
   ],
   "source": [
    "# import data\n",
    "path = Path(r'C:\\Users\\1699\\Repositories\\ai_results_viz\\C51_HPO\\test_scores.csv')\n",
    "test_scores_df = load_test_scores(path)\n",
    "test_scores_df"
   ]
  },
  {
   "cell_type": "markdown",
   "metadata": {},
   "source": [
    "# Image based evaluation"
   ]
  },
  {
   "cell_type": "code",
   "execution_count": 18,
   "metadata": {},
   "outputs": [],
   "source": [
    "# creating confusion matrix\n",
    "y_true = test_scores_df.truth\n",
    "y_pred = test_scores_df.prediction\n",
    "cls_dict = {'Gut': 0, 'Kratzer': 1, 'Luftlinie': 2}\n",
    "clss = ['Gut', 'Kratzer', 'Luftlinie']\n",
    "cf_matrix = calculate_cf_matrix(y_true, y_pred, cls_dict, clss)"
   ]
  },
  {
   "cell_type": "code",
   "execution_count": 19,
   "metadata": {},
   "outputs": [
    {
     "data": {
      "text/plain": [
       "<Figure size 640x480 with 0 Axes>"
      ]
     },
     "metadata": {},
     "output_type": "display_data"
    }
   ],
   "source": [
    "# plotting and saving confusion matrix\n",
    "save_path_cf_matrix = Path(r'C:\\Users\\1699\\Repositories\\ai_results_viz\\C51_HPO\\image_based_cf_matrix.png')\n",
    "plot_cf_matrix(cf_matrix, save_path_cf_matrix, clss)\n"
   ]
  },
  {
   "cell_type": "markdown",
   "metadata": {},
   "source": [
    "<img src=\"Image_based_cf_matrix.png\" alt=\"sample based confusion matrix\" />"
   ]
  },
  {
   "cell_type": "code",
   "execution_count": 20,
   "metadata": {},
   "outputs": [],
   "source": [
    "# create sample dict\n",
    "sample_dict = {}\n",
    "categories = test_scores_df.truth.unique()\n",
    "category_dict = {val: key for key, val in cls_dict.items()}\n",
    "for category in categories:\n",
    "    filtered_df = test_scores_df[test_scores_df['truth'] == category]\n",
    "    sample_dict[category_dict[category]] = filtered_df['sample'].unique()\n",
    "    "
   ]
  },
  {
   "cell_type": "code",
   "execution_count": 21,
   "metadata": {},
   "outputs": [],
   "source": [
    "def convert_test_scores_to_sample_scores(scores_df, csv_save_path):\n",
    "    df = scores_df.copy()\n",
    "    grouped_df = df.groupby(['sample','revolution'])\n",
    "    predictions = grouped_df['prediction'].max()\n",
    "    sample_truths = grouped_df['truth'].first()\n",
    "    max_sample_scores = pd.concat([predictions, sample_truths], axis=1)\n",
    "    max_sample_scores.to_csv(csv_save_path)\n",
    "    return max_sample_scores"
   ]
  },
  {
   "cell_type": "code",
   "execution_count": 22,
   "metadata": {},
   "outputs": [
    {
     "data": {
      "text/html": [
       "<div>\n",
       "<style scoped>\n",
       "    .dataframe tbody tr th:only-of-type {\n",
       "        vertical-align: middle;\n",
       "    }\n",
       "\n",
       "    .dataframe tbody tr th {\n",
       "        vertical-align: top;\n",
       "    }\n",
       "\n",
       "    .dataframe thead th {\n",
       "        text-align: right;\n",
       "    }\n",
       "</style>\n",
       "<table border=\"1\" class=\"dataframe\">\n",
       "  <thead>\n",
       "    <tr style=\"text-align: right;\">\n",
       "      <th></th>\n",
       "      <th></th>\n",
       "      <th>prediction</th>\n",
       "      <th>truth</th>\n",
       "    </tr>\n",
       "    <tr>\n",
       "      <th>sample</th>\n",
       "      <th>revolution</th>\n",
       "      <th></th>\n",
       "      <th></th>\n",
       "    </tr>\n",
       "  </thead>\n",
       "  <tbody>\n",
       "    <tr>\n",
       "      <th rowspan=\"5\" valign=\"top\">Airline_loop_bad_140705_A</th>\n",
       "      <th>1</th>\n",
       "      <td>1</td>\n",
       "      <td>0</td>\n",
       "    </tr>\n",
       "    <tr>\n",
       "      <th>2</th>\n",
       "      <td>1</td>\n",
       "      <td>0</td>\n",
       "    </tr>\n",
       "    <tr>\n",
       "      <th>3</th>\n",
       "      <td>1</td>\n",
       "      <td>1</td>\n",
       "    </tr>\n",
       "    <tr>\n",
       "      <th>4</th>\n",
       "      <td>1</td>\n",
       "      <td>0</td>\n",
       "    </tr>\n",
       "    <tr>\n",
       "      <th>5</th>\n",
       "      <td>1</td>\n",
       "      <td>0</td>\n",
       "    </tr>\n",
       "    <tr>\n",
       "      <th>...</th>\n",
       "      <th>...</th>\n",
       "      <td>...</td>\n",
       "      <td>...</td>\n",
       "    </tr>\n",
       "    <tr>\n",
       "      <th rowspan=\"5\" valign=\"top\">loop_bad_KHS0D00</th>\n",
       "      <th>19</th>\n",
       "      <td>0</td>\n",
       "      <td>0</td>\n",
       "    </tr>\n",
       "    <tr>\n",
       "      <th>20</th>\n",
       "      <td>0</td>\n",
       "      <td>0</td>\n",
       "    </tr>\n",
       "    <tr>\n",
       "      <th>21</th>\n",
       "      <td>0</td>\n",
       "      <td>0</td>\n",
       "    </tr>\n",
       "    <tr>\n",
       "      <th>22</th>\n",
       "      <td>0</td>\n",
       "      <td>0</td>\n",
       "    </tr>\n",
       "    <tr>\n",
       "      <th>26</th>\n",
       "      <td>0</td>\n",
       "      <td>0</td>\n",
       "    </tr>\n",
       "  </tbody>\n",
       "</table>\n",
       "<p>1994 rows × 2 columns</p>\n",
       "</div>"
      ],
      "text/plain": [
       "                                      prediction  truth\n",
       "sample                    revolution                   \n",
       "Airline_loop_bad_140705_A 1                    1      0\n",
       "                          2                    1      0\n",
       "                          3                    1      1\n",
       "                          4                    1      0\n",
       "                          5                    1      0\n",
       "...                                          ...    ...\n",
       "loop_bad_KHS0D00          19                   0      0\n",
       "                          20                   0      0\n",
       "                          21                   0      0\n",
       "                          22                   0      0\n",
       "                          26                   0      0\n",
       "\n",
       "[1994 rows x 2 columns]"
      ]
     },
     "execution_count": 22,
     "metadata": {},
     "output_type": "execute_result"
    }
   ],
   "source": [
    "save_path_sample_based_csv= Path(r'C:\\Users\\1699\\Repositories\\ai_results_viz\\C51_HPO\\sample_based_test_scores.csv')\n",
    "sample_test_scores_df = convert_test_scores_to_sample_scores(test_scores_df, save_path_sample_based_csv)\n",
    "sample_test_scores_df"
   ]
  },
  {
   "cell_type": "code",
   "execution_count": 23,
   "metadata": {},
   "outputs": [],
   "source": [
    "# creating confusion matrix\n",
    "y_true = sample_test_scores_df.truth\n",
    "y_pred = sample_test_scores_df.prediction\n",
    "cls_dict = {'Gut': 0, 'Kratzer': 1, 'Luftlinie': 2}\n",
    "clss = ['Gut', 'Kratzer', 'Luftlinie']\n",
    "cf_matrix = calculate_cf_matrix(y_true, y_pred, cls_dict, clss)"
   ]
  },
  {
   "cell_type": "code",
   "execution_count": 24,
   "metadata": {},
   "outputs": [
    {
     "data": {
      "image/png": "[encoded data removed]",
      "text/plain": [
       "<IPython.core.display.Image object>"
      ]
     },
     "execution_count": 24,
     "metadata": {},
     "output_type": "execute_result"
    },
    {
     "data": {
      "text/plain": [
       "<Figure size 640x480 with 0 Axes>"
      ]
     },
     "metadata": {},
     "output_type": "display_data"
    }
   ],
   "source": [
    "# plotting and saving confusion matrix\n",
    "save_path_cf_matrix = Path(r'C:\\Users\\1699\\Repositories\\ai_results_viz\\C51_HPO\\sample_based_cf_matrix.png')\n",
    "plot_cf_matrix(cf_matrix, save_path_cf_matrix, clss)\n",
    "Image(filename=save_path_cf_matrix) "
   ]
  },
  {
   "cell_type": "code",
   "execution_count": null,
   "metadata": {},
   "outputs": [],
   "source": []
  }
 ],
 "metadata": {
  "kernelspec": {
   "display_name": "Python 3.8.10 ('tony')",
   "language": "python",
   "name": "python3"
  },
  "language_info": {
   "codemirror_mode": {
    "name": "ipython",
    "version": 3
   },
   "file_extension": ".py",
   "mimetype": "text/x-python",
   "name": "python",
   "nbconvert_exporter": "python",
   "pygments_lexer": "ipython3",
   "version": "3.8.10"
  },
  "orig_nbformat": 4,
  "vscode": {
   "interpreter": {
    "hash": "9b63462a0c3c4787f698bea89280aad958ab1cacbd0e489876d9c57fc704de1e"
   }
  }
 },
 "nbformat": 4,
 "nbformat_minor": 2
}
